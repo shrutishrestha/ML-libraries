{
 "cells": [
  {
   "cell_type": "code",
   "execution_count": 1,
   "metadata": {},
   "outputs": [],
   "source": [
    "import pandas as pd\n",
    "import numpy as np\n",
    "import sys\n",
    "import matplotlib.pyplot as plt"
   ]
  },
  {
   "cell_type": "code",
   "execution_count": 2,
   "metadata": {},
   "outputs": [],
   "source": [
    "%matplotlib inline"
   ]
  },
  {
   "cell_type": "code",
   "execution_count": 3,
   "metadata": {},
   "outputs": [],
   "source": [
    "train_dataset = pd.read_csv(\"datasets/random-linear-regression/train.csv\")\n",
    "test_dataset = pd.read_csv(\"datasets/random-linear-regression/test.csv\")"
   ]
  },
  {
   "cell_type": "code",
   "execution_count": 4,
   "metadata": {},
   "outputs": [],
   "source": [
    "train_dataset = train_dataset.dropna()\n",
    "test_dataset = test_dataset.dropna()"
   ]
  },
  {
   "cell_type": "code",
   "execution_count": 5,
   "metadata": {},
   "outputs": [],
   "source": [
    "X_train = np.asarray(train_dataset['x'])\n",
    "Y_train = np.asarray(train_dataset['y'])\n",
    "X_test = np.asarray(test_dataset['x'])\n",
    "Y_test = np.asarray(test_dataset['y'])"
   ]
  },
  {
   "cell_type": "code",
   "execution_count": 6,
   "metadata": {},
   "outputs": [],
   "source": [
    "#noramalize\n",
    "train_x_var = X_train.max() - X_train.min()\n",
    "train_x_mean = X_train.mean()\n",
    "train_y_var = Y_train.max() - Y_train.min()\n",
    "train_y_mean = Y_train.mean()\n",
    "\n",
    "X_train = (X_train-train_x_mean) / (train_x_var)\n",
    "Y_train = (Y_train-train_y_mean) / (train_y_var)\n",
    "\n",
    "test_x_var = X_test.max() - X_test.min()\n",
    "test_x_mean = X_test.mean()\n",
    "test_y_var = Y_test.max() - Y_test.min()\n",
    "test_y_mean = Y_test.mean()\n",
    "\n",
    "X_test = (X_test-test_x_mean) / (test_x_var)\n",
    "Y_test = (Y_test-test_y_mean) / (test_y_var)"
   ]
  },
  {
   "cell_type": "code",
   "execution_count": 7,
   "metadata": {},
   "outputs": [],
   "source": [
    "def update_weights(X_train, Y_train, weight, bias, learning_rate):\n",
    "    weight_deriv = 0\n",
    "    bias_deriv = 0\n",
    "    companies = len(X_train)\n",
    "    for i in range(companies):\n",
    "        # Calculate partial derivatives\n",
    "        # -2x(y - (mx + b))\n",
    "        weight_deriv += -2*X_train[i] * (Y_train[i] - (weight*X_train[i] + bias))\n",
    "        # -2(y - (mx + b))\n",
    "        bias_deriv += -2*(Y_train[i] - (weight*X_train[i] + bias))\n",
    "\n",
    "    # We subtract because the derivatives point in direction of steepest ascent\n",
    "    weight -= (weight_deriv / companies) * learning_rate\n",
    "    bias -= (bias_deriv / companies) * learning_rate\n",
    "\n",
    "    return weight, bias"
   ]
  },
  {
   "cell_type": "code",
   "execution_count": 8,
   "metadata": {},
   "outputs": [],
   "source": [
    "def cost_function(X_train, Y_train, weight, bias):\n",
    "    companies = len(X_train)\n",
    "    total_error = 0.0\n",
    "    for i in range(companies):\n",
    "        total_error += (Y_train[i] - (weight*X_train[i] + bias))**2\n",
    "    return total_error / (2*companies)"
   ]
  },
  {
   "cell_type": "code",
   "execution_count": 9,
   "metadata": {},
   "outputs": [],
   "source": [
    "def plot_graph(iteration,cost_history):\n",
    "    plt.plot(range(iteration),cost_history)\n",
    "    plt.xlabel(\"iterations\")\n",
    "    plt.ylabel(\"cost\")"
   ]
  },
  {
   "cell_type": "code",
   "execution_count": 10,
   "metadata": {},
   "outputs": [
    {
     "data": {
      "image/png": "[encoded data removed]",
      "text/plain": [
       "<Figure size 432x288 with 1 Axes>"
      ]
     },
     "metadata": {
      "needs_background": "light"
     },
     "output_type": "display_data"
    }
   ],
   "source": [
    "weight = 0\n",
    "bias = 0 \n",
    "learning_rate = 0.01\n",
    "\n",
    "def train(X_train, Y_train, weight, bias, learning_rate):\n",
    "    cost_history = []\n",
    "    iteration = 0\n",
    "    error =1\n",
    "    while(error > 0.001):\n",
    "        iteration = iteration + 1\n",
    "        weight,bias = update_weights(X_train, Y_train, weight, bias, learning_rate)\n",
    "\n",
    "        #Calculate cost for auditing purposes\n",
    "        error = cost_function(X_train, Y_train, weight, bias)\n",
    "        cost_history.append(error)\n",
    "        \n",
    "    plot_graph(iteration,cost_history)\n",
    "    return weight, bias, cost_history\n",
    "\n",
    "weight,bias , cost = train(X_train,Y_train,weight,bias,learning_rate)\n"
   ]
  },
  {
   "cell_type": "code",
   "execution_count": 11,
   "metadata": {},
   "outputs": [
    {
     "name": "stdout",
     "output_type": "stream",
     "text": [
      "0.0015642823839354695\n"
     ]
    }
   ],
   "source": [
    "def predict_sales(weight, bias):\n",
    "    error = 0\n",
    "    ntest = len(X_test)\n",
    "    pred_Y = []\n",
    "    for i in range(ntest):\n",
    "        pred_Y.append(weight*X_test[i] + bias)\n",
    "    error = (pred_Y - Y_test) **2\n",
    "    print((1/(2*ntest))*sum(error))\n",
    "predict_sales(weight,bias)"
   ]
  }
 ],
 "metadata": {
  "kernelspec": {
   "display_name": "Python 3",
   "language": "python",
   "name": "python3"
  },
  "language_info": {
   "codemirror_mode": {
    "name": "ipython",
    "version": 3
   },
   "file_extension": ".py",
   "mimetype": "text/x-python",
   "name": "python",
   "nbconvert_exporter": "python",
   "pygments_lexer": "ipython3",
   "version": "3.7.4"
  }
 },
 "nbformat": 4,
 "nbformat_minor": 2
}
