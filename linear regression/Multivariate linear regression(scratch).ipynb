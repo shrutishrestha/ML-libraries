{
 "cells": [
  {
   "cell_type": "markdown",
   "metadata": {},
   "source": [
    "As the number of features grows, the complexity of our model increases and it becomes increasingly difficult to visualize, or even comprehend, our data."
   ]
  },
  {
   "cell_type": "code",
   "execution_count": 1,
   "metadata": {},
   "outputs": [],
   "source": [
    "import pandas as pd\n",
    "import numpy as np\n",
    "import sys"
   ]
  },
  {
   "cell_type": "code",
   "execution_count": 2,
   "metadata": {},
   "outputs": [],
   "source": [
    "data = pd.DataFrame({\"TV\":[230.1,44.5,17.2,151.5],'Radio':[37.8,39.3,45.9,41.3],\"News\":[69.1,23.1,34.7,13.2],\"Units\":[22.1,10.4,18.3,18.5]},index = [\"Amazon\",\"Google\",\"Facebook\",\"Apple\"])"
   ]
  },
  {
   "cell_type": "code",
   "execution_count": 3,
   "metadata": {},
   "outputs": [
    {
     "data": {
      "text/html": [
       "<div>\n",
       "<style scoped>\n",
       "    .dataframe tbody tr th:only-of-type {\n",
       "        vertical-align: middle;\n",
       "    }\n",
       "\n",
       "    .dataframe tbody tr th {\n",
       "        vertical-align: top;\n",
       "    }\n",
       "\n",
       "    .dataframe thead th {\n",
       "        text-align: right;\n",
       "    }\n",
       "</style>\n",
       "<table border=\"1\" class=\"dataframe\">\n",
       "  <thead>\n",
       "    <tr style=\"text-align: right;\">\n",
       "      <th></th>\n",
       "      <th>TV</th>\n",
       "      <th>Radio</th>\n",
       "      <th>News</th>\n",
       "      <th>Units</th>\n",
       "    </tr>\n",
       "  </thead>\n",
       "  <tbody>\n",
       "    <tr>\n",
       "      <td>Amazon</td>\n",
       "      <td>230.1</td>\n",
       "      <td>37.8</td>\n",
       "      <td>69.1</td>\n",
       "      <td>22.1</td>\n",
       "    </tr>\n",
       "    <tr>\n",
       "      <td>Google</td>\n",
       "      <td>44.5</td>\n",
       "      <td>39.3</td>\n",
       "      <td>23.1</td>\n",
       "      <td>10.4</td>\n",
       "    </tr>\n",
       "    <tr>\n",
       "      <td>Facebook</td>\n",
       "      <td>17.2</td>\n",
       "      <td>45.9</td>\n",
       "      <td>34.7</td>\n",
       "      <td>18.3</td>\n",
       "    </tr>\n",
       "    <tr>\n",
       "      <td>Apple</td>\n",
       "      <td>151.5</td>\n",
       "      <td>41.3</td>\n",
       "      <td>13.2</td>\n",
       "      <td>18.5</td>\n",
       "    </tr>\n",
       "  </tbody>\n",
       "</table>\n",
       "</div>"
      ],
      "text/plain": [
       "             TV  Radio  News  Units\n",
       "Amazon    230.1   37.8  69.1   22.1\n",
       "Google     44.5   39.3  23.1   10.4\n",
       "Facebook   17.2   45.9  34.7   18.3\n",
       "Apple     151.5   41.3  13.2   18.5"
      ]
     },
     "execution_count": 3,
     "metadata": {},
     "output_type": "execute_result"
    }
   ],
   "source": [
    "data"
   ]
  },
  {
   "cell_type": "code",
   "execution_count": 4,
   "metadata": {},
   "outputs": [
    {
     "data": {
      "text/plain": [
       "array([[230.1,  37.8,  69.1,  22.1],\n",
       "       [ 44.5,  39.3,  23.1,  10.4],\n",
       "       [ 17.2,  45.9,  34.7,  18.3],\n",
       "       [151.5,  41.3,  13.2,  18.5]])"
      ]
     },
     "execution_count": 4,
     "metadata": {},
     "output_type": "execute_result"
    }
   ],
   "source": [
    "data = np.asarray(data)\n",
    "data"
   ]
  },
  {
   "cell_type": "markdown",
   "metadata": {},
   "source": [
    "1. normalize\n",
    "2. update\n",
    "3. cost"
   ]
  },
  {
   "cell_type": "markdown",
   "metadata": {},
   "source": [
    "#normalize"
   ]
  },
  {
   "cell_type": "code",
   "execution_count": 5,
   "metadata": {},
   "outputs": [],
   "source": [
    "#normalize between -1 and 1\n",
    "def normalize(datas):\n",
    "    norm_datas=[]\n",
    "    for data in datas.T:\n",
    "        data_mean = data.mean()\n",
    "        data_var = data.max() - data.min()\n",
    "        norm_data = (data - data_mean) / data_var\n",
    "        norm_datas.append(norm_data)\n",
    "        \n",
    "    norm_datas = np.asarray(norm_datas).T\n",
    "    return norm_datas"
   ]
  },
  {
   "cell_type": "code",
   "execution_count": 6,
   "metadata": {},
   "outputs": [],
   "source": [
    "def add_bias(features):\n",
    "    bias = np.ones(shape =(len(features),1))\n",
    "    return np.append(bias, features, axis = 1)"
   ]
  },
  {
   "cell_type": "code",
   "execution_count": 7,
   "metadata": {},
   "outputs": [],
   "source": [
    "def feature_output_split(data):\n",
    "    feature = data[:,:-1]\n",
    "    actual_output = data[:,-1:]\n",
    "    return feature,actual_output"
   ]
  },
  {
   "cell_type": "code",
   "execution_count": 8,
   "metadata": {},
   "outputs": [],
   "source": [
    "def cost(features, actual, weights):\n",
    "    predicted_data = np.dot(features,weights.T)\n",
    "    error = (predicted_data - actual) **2\n",
    "    return (1/(2*len(predicted_data)) * sum(error) )"
   ]
  },
  {
   "cell_type": "code",
   "execution_count": 9,
   "metadata": {},
   "outputs": [],
   "source": [
    "def update(features, actual, weights, learning_rate):\n",
    "    weights -= (learning_rate/(2*len(features))) * np.sum((np.dot(features, weights.T) - actual)*features, axis = 0)\n",
    "    return weights"
   ]
  },
  {
   "cell_type": "code",
   "execution_count": 10,
   "metadata": {},
   "outputs": [
    {
     "name": "stdout",
     "output_type": "stream",
     "text": [
      "iterations=8323, trainierror = [0.00099973]\n"
     ]
    }
   ],
   "source": [
    "def evaluate_algorithm(data):\n",
    "    error = sys.float_info.max\n",
    "    learning_rate = 0.01\n",
    "    norm_data= normalize(data)\n",
    "    features, actual = feature_output_split(norm_data)\n",
    "    new_features_data = add_bias(features)\n",
    "    nfeatures = len(new_features_data)\n",
    "    weights = np.zeros([1,nfeatures])\n",
    "\n",
    "    i=0\n",
    "    \n",
    "    #train\n",
    "    while error>0.001:\n",
    "        i=i+1\n",
    "        weights = update(new_features_data, actual, weights, learning_rate)\n",
    "        error = cost(new_features_data,actual,weights)\n",
    "        \n",
    "        \n",
    "    print(f\"iterations={i}, trainierror = {error}\")\n",
    "    \n",
    "evaluate_algorithm(data)\n",
    "    "
   ]
  }
 ],
 "metadata": {
  "kernelspec": {
   "display_name": "Python 3",
   "language": "python",
   "name": "python3"
  },
  "language_info": {
   "codemirror_mode": {
    "name": "ipython",
    "version": 3
   },
   "file_extension": ".py",
   "mimetype": "text/x-python",
   "name": "python",
   "nbconvert_exporter": "python",
   "pygments_lexer": "ipython3",
   "version": "3.7.4"
  }
 },
 "nbformat": 4,
 "nbformat_minor": 2
}
